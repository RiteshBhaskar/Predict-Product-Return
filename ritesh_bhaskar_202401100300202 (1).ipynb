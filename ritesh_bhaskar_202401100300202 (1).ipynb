{
  "nbformat": 4,
  "nbformat_minor": 0,
  "metadata": {
    "colab": {
      "provenance": []
    },
    "kernelspec": {
      "name": "python3",
      "display_name": "Python 3"
    },
    "language_info": {
      "name": "python"
    }
  },
  "cells": [
    {
      "cell_type": "code",
      "execution_count": 5,
      "metadata": {
        "colab": {
          "base_uri": "https://localhost:8080/",
          "height": 1000
        },
        "id": "RUEfDMYpIp6y",
        "outputId": "212a01c8-cfb8-40e2-cc28-35614d2b6395"
      },
      "outputs": [
        {
          "output_type": "stream",
          "name": "stdout",
          "text": [
            "First 5 rows of the dataset:\n",
            "   purchase_amount  review_score  days_to_delivery returned\n",
            "0       687.011818      3.778615                 4       no\n",
            "1       325.972093      2.458683                 1      yes\n",
            "2       685.382724      3.954024                 7       no\n",
            "3       291.100577      3.666468                14      yes\n",
            "4       209.806672      1.478248                 2       no\n",
            "\n",
            "Checking for missing values:\n",
            "purchase_amount     0\n",
            "review_score        0\n",
            "days_to_delivery    0\n",
            "returned            0\n",
            "dtype: int64\n",
            "\n",
            "Confusion Matrix:\n",
            "[[3 6]\n",
            " [3 8]]\n",
            "\n",
            "Classification Report:\n",
            "              precision    recall  f1-score   support\n",
            "\n",
            "           0       0.50      0.33      0.40         9\n",
            "           1       0.57      0.73      0.64        11\n",
            "\n",
            "    accuracy                           0.55        20\n",
            "   macro avg       0.54      0.53      0.52        20\n",
            "weighted avg       0.54      0.55      0.53        20\n",
            "\n",
            "\n",
            "Accuracy Score:\n",
            "0.55\n"
          ]
        },
        {
          "output_type": "display_data",
          "data": {
            "text/plain": [
              "<Figure size 1000x500 with 1 Axes>"
            ],
            "image/png": "[encoded data removed]"
          },
          "metadata": {}
        }
      ],
      "source": [
        "# Step 1: Import required libraries\n",
        "import pandas as pd\n",
        "import numpy as np\n",
        "import seaborn as sns\n",
        "import matplotlib.pyplot as plt\n",
        "from sklearn.model_selection import train_test_split\n",
        "from sklearn.preprocessing import LabelEncoder\n",
        "from sklearn.ensemble import RandomForestClassifier\n",
        "from sklearn.metrics import classification_report, confusion_matrix, accuracy_score\n",
        "\n",
        "# Step 2: Load the dataset\n",
        "df = pd.read_csv('/content/product_return.csv')  # Upload the CSV file to Colab first\n",
        "print(\"First 5 rows of the dataset:\")\n",
        "print(df.head())\n",
        "\n",
        "# Step 3: Data Preprocessing\n",
        "print(\"\\nChecking for missing values:\")\n",
        "print(df.isnull().sum())\n",
        "\n",
        "# Fill or drop missing values if any (example below):\n",
        "df = df.dropna()\n",
        "\n",
        "# Step 4: Encode categorical columns\n",
        "label_encoders = {}\n",
        "for column in df.select_dtypes(include=['object']).columns:\n",
        "    le = LabelEncoder()\n",
        "    df[column] = le.fit_transform(df[column])\n",
        "    label_encoders[column] = le\n",
        "\n",
        "# Step 5: Define features and target\n",
        "X = df.drop('returned', axis=1)\n",
        "y = df['returned']\n",
        "\n",
        "# Step 6: Split data into training and test sets\n",
        "X_train, X_test, y_train, y_test = train_test_split(X, y, test_size=0.2, random_state=42)\n",
        "\n",
        "# Step 7: Train the model using Random Forest\n",
        "model = RandomForestClassifier(n_estimators=100, random_state=42)\n",
        "model.fit(X_train, y_train)\n",
        "\n",
        "# Step 8: Predict and evaluate the model\n",
        "y_pred = model.predict(X_test)\n",
        "\n",
        "print(\"\\nConfusion Matrix:\")\n",
        "print(confusion_matrix(y_test, y_pred))\n",
        "\n",
        "print(\"\\nClassification Report:\")\n",
        "print(classification_report(y_test, y_pred))\n",
        "\n",
        "print(\"\\nAccuracy Score:\")\n",
        "print(accuracy_score(y_test, y_pred))\n",
        "\n",
        "# Step 9: Feature importance plot\n",
        "plt.figure(figsize=(10, 5))\n",
        "feature_importance = pd.Series(model.feature_importances_, index=X.columns)\n",
        "feature_importance.sort_values().plot(kind='barh')\n",
        "plt.title('Feature Importance')\n",
        "plt.show()\n"
      ]
    }
  ]
}